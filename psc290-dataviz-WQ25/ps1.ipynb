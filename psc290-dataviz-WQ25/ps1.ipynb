{
  "cells": [
    {
      "cell_type": "raw",
      "metadata": {},
      "source": [
        "---\n",
        "title: \"Problem Set 1\"\n",
        "---"
      ],
      "id": "8c14691b"
    },
    {
      "cell_type": "markdown",
      "metadata": {},
      "source": [
        "**Due Date**: Wednesday, January 22, 9:30 AM PST.\n",
        "\n",
        "[Download](https://github.com/emoriebeck/psc290-dataviz-WQ25/raw/refs/heads/main/assignments/03-problem-sets/01-ps01/ps1.zip) your problem set for week 1 below or on Canvas.\n",
        "\n",
        "\n",
        "\n",
        "\n",
        "```{css, echo=FALSE}\n",
        "#title-block-header .description {\n",
        "    display: none;\n",
        "}\n",
        "```\n",
        "\n",
        "```{css echo=FALSE}\n",
        ".embed-container {\n",
        "    position: relative;\n",
        "    padding-bottom: 129%;\n",
        "    height: 0;\n",
        "    overflow: hidden;\n",
        "    max-width: 100%;\n",
        "}\n",
        "\n",
        ".embed-container iframe,\n",
        ".embed-container object,\n",
        ".embed-container embed {\n",
        "    position: absolute;\n",
        "    top: 0;\n",
        "    left: 0;\n",
        "    width: 100%;\n",
        "    height: 100%;\n",
        "}\n",
        "```\n",
        "\n",
        "```{=html}\n",
        "<p class=\"text-center\">\n",
        "  <a class=\"btn btn-primary btn-lg cv-download\" href=\"/static/ps/problemset1.pdf\" target=\"_blank\">\n",
        "    <i class=\"fa-solid fa-file-arrow-down\"></i>&ensp;Download current CV\n",
        "  </a>\n",
        "</p>\n",
        "\n",
        "<div class=\"embed-container\">\n",
        "  <iframe src=\"/static/ps/problemset1.pdf\" style=\"border: 0.5px\"></iframe>\n",
        "</div>\n",
        "```\n",
        "\n",
        "\n",
        "<iframe class=\"slide-deck\" src=\"/static/ps/problemset1.pdf\" width=\"100%\" height=\"800\"></iframe>"
      ],
      "id": "1348ee15"
    }
  ],
  "metadata": {
    "kernelspec": {
      "display_name": "Python 3",
      "language": "python",
      "name": "python3"
    }
  },
  "nbformat": 4,
  "nbformat_minor": 5
}